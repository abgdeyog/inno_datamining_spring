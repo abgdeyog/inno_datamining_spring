{
  "nbformat": 4,
  "nbformat_minor": 0,
  "metadata": {
    "colab": {
      "name": "spectral.ipynb",
      "version": "0.3.2",
      "provenance": [],
      "collapsed_sections": []
    },
    "kernelspec": {
      "display_name": "Python 3",
      "language": "python",
      "name": "python3"
    }
  },
  "cells": [
    {
      "metadata": {
        "id": "DlyHrmEK20B3",
        "colab_type": "text"
      },
      "cell_type": "markdown",
      "source": [
        "# Spectral (30 - 60 pts)"
      ]
    },
    {
      "metadata": {
        "id": "_ClvuPX_20B5",
        "colab_type": "text"
      },
      "cell_type": "markdown",
      "source": [
        "### 1. Explain Spectral clustering and different types of Laplassians"
      ]
    },
    {
      "metadata": {
        "id": "933viQpiEf6c",
        "colab_type": "text"
      },
      "cell_type": "markdown",
      "source": [
        "**The basic idea:**\n",
        "\n",
        "- Project your data into $R^{n}$\n",
        "- Define an Affinity  matrix $A$  , using a Gaussian Kernel $K$  or say just an Adjacency matrix (i.e. $A_{i,j}=\\delta_{i,j}$) \n",
        "- Construct the Graph Laplacian from $A$  (i.e. decide on a normalization)\n",
        "- Solve an Eigenvalue problem , such as $L v=\\lambda v$   (or a Generalized Eigenvalue problem $L v=\\lambda D v $)\n",
        "- Select $k$ eigenvectors $\\{ v_{i}, i=1, k \\}$  corresponding to the k lowest (or highest) eigenvalues  $\\{ \\lambda_{i}, i=1, k \\}$ , to define a $k$-dimensional subspace $P^{t}LP$ \n",
        "- Form clusters in this subspace using, say, $k$-means"
      ]
    },
    {
      "metadata": {
        "id": "Ayjcw1ju20B8",
        "colab_type": "text"
      },
      "cell_type": "markdown",
      "source": [
        "### 2. Given Data"
      ]
    },
    {
      "metadata": {
        "id": "riV9YkBx20B-",
        "colab_type": "code",
        "colab": {}
      },
      "cell_type": "code",
      "source": [
        "import numpy as np\n",
        "import matplotlib.pyplot as plt"
      ],
      "execution_count": 0,
      "outputs": []
    },
    {
      "metadata": {
        "id": "zpzADgIu20CD",
        "colab_type": "text"
      },
      "cell_type": "markdown",
      "source": [
        "**Affinity matrix**"
      ]
    },
    {
      "metadata": {
        "id": "d5axQLva_Gr6",
        "colab_type": "text"
      },
      "cell_type": "markdown",
      "source": [
        "What is an **Affinity**?  It is a metric that determines how close, or **Similar**, two points in our space. "
      ]
    },
    {
      "metadata": {
        "id": "8hgUTStC_Gw_",
        "colab_type": "text"
      },
      "cell_type": "markdown",
      "source": [
        "Given 2 data points $x_{i},x_{j}$  (projected in $R^{n}$ ), we define an Affinity $A_{i,j}$  that is positive, symmetric, and depends on the Euclidian distance $\\Vert x_{i}-x_{j}\\Vert$  between the data points\n",
        "\n",
        "$A_{i,j}\\simeq exp(-\\alpha \\Vert x_{i}-x_{j}\\Vert^{2}) $\n",
        "\n",
        "We might provide a hard cut off R , so that\n",
        "\n",
        "$A_{i,j}= 0$  if $\\Vert x_{i}-x_{j}\\Vert^{2}\\geq R$"
      ]
    },
    {
      "metadata": {
        "id": "x4HWbNDP20CF",
        "colab_type": "code",
        "outputId": "e571f48e-d211-4b58-ea9d-27eaae5353e3",
        "colab": {
          "base_uri": "https://localhost:8080/",
          "height": 368
        }
      },
      "cell_type": "code",
      "source": [
        "A = np.array(\n",
        "[[0.0, 0.8, 0.6, 0.0, 0.1, 0.0],\n",
        "[0.8, 0.0, 0.8, 0.0, 0.0, 0.0],\n",
        "[0.6, 0.8, 0.0, 0.2, 0.0, 0.0],\n",
        "[0.0, 0.0, 0.2, 0.0, 0.8, 0.7],\n",
        "[0.1, 0.0, 0.0, 0.8, 0.0, 0.8],\n",
        "[0.0, 0.0, 0.0, 0.7, 0.8, 0.0]]\n",
        ")\n",
        "plt.imshow(A, interpolation='nearest')\n",
        "plt.title(\"Adjacency matrix (black - connection, white - no connection)\", fontsize=20)\n",
        "_ = plt.show()"
      ],
      "execution_count": 0,
      "outputs": [
        {
          "output_type": "display_data",
          "data": {
            "image/png": "[encoded data removed]",
            "text/plain": [
              "<Figure size 576x396 with 1 Axes>"
            ]
          },
          "metadata": {
            "tags": []
          }
        }
      ]
    },
    {
      "metadata": {
        "id": "lc-PdW4BDnRW",
        "colab_type": "code",
        "outputId": "9677f906-9110-454d-c727-9e69409da455",
        "colab": {
          "base_uri": "https://localhost:8080/",
          "height": 480
        }
      },
      "cell_type": "code",
      "source": [
        "import networkx as nx\n",
        "\n",
        "G = nx.from_numpy_matrix(np.matrix(A))\n",
        "nx.draw(G)"
      ],
      "execution_count": 0,
      "outputs": [
        {
          "output_type": "stream",
          "text": [
            "/usr/local/lib/python3.6/dist-packages/networkx/drawing/nx_pylab.py:611: MatplotlibDeprecationWarning: isinstance(..., numbers.Number)\n",
            "  if cb.is_numlike(alpha):\n"
          ],
          "name": "stderr"
        },
        {
          "output_type": "display_data",
          "data": {
            "image/png": "[encoded data removed]",
            "text/plain": [
              "<Figure size 576x396 with 1 Axes>"
            ]
          },
          "metadata": {
            "tags": []
          }
        }
      ]
    },
    {
      "metadata": {
        "id": "YuXJs-7qC5TE",
        "colab_type": "text"
      },
      "cell_type": "markdown",
      "source": [
        "As we can see in the plot, the first three have intermediate connections with weight higher than 0.6 and have weaker connections with other samples. Same for the other three samples. That means there are two clusters - first three samples and other three samples."
      ]
    },
    {
      "metadata": {
        "id": "_0YqQzBm20CI",
        "colab_type": "text"
      },
      "cell_type": "markdown",
      "source": [
        "**Unnormalized Laplacian matrix**"
      ]
    },
    {
      "metadata": {
        "id": "OtAE33JGDjXY",
        "colab_type": "text"
      },
      "cell_type": "markdown",
      "source": [
        "They all share the **Degree matrix** $D$ .    The **Degree matrix** is a diagonal matrix that measures the degree at each node\n",
        "$D_{i,i}=\\sum^{n}_{j}a_{i,j} $\n",
        "\n",
        "Simple Laplacian $L=D-A$ was given"
      ]
    },
    {
      "metadata": {
        "id": "c2JseOD320CJ",
        "colab_type": "code",
        "colab": {}
      },
      "cell_type": "code",
      "source": [
        "L = np.array(\n",
        "[[1.5, -0.8, -0.6, 0.0, -0.1, 0.0],\n",
        "[-0.8, 1.6, -0.8, 0.0, 0.0, 0.0],\n",
        "[-0.6, -0.8, 1.6, -0.2, 0.0, 0.0],\n",
        "[0.0, 0.0, -0.2, 1.7, -0.8, -0.7],\n",
        "[-0.1, 0.0, 0.0, -0.8, 1.7, -0.8],\n",
        "[0.0, 0.0, 0.0, -0.7, -0.8, 1.5]]\n",
        ")"
      ],
      "execution_count": 0,
      "outputs": []
    },
    {
      "metadata": {
        "id": "AfY1Mbiw20CM",
        "colab_type": "text"
      },
      "cell_type": "markdown",
      "source": [
        "### 3. Perform the rest of steps for spectral clustering"
      ]
    },
    {
      "metadata": {
        "id": "t6Xryfaq20CN",
        "colab_type": "code",
        "outputId": "9736e0d4-3f69-4d91-c49a-5bfe1793d5a4",
        "colab": {
          "base_uri": "https://localhost:8080/",
          "height": 670
        }
      },
      "cell_type": "code",
      "source": [
        "eigenvalues, eigenvectors = np.linalg.eig(L)\n",
        "print(\"Eigenvalues:\")\n",
        "print(eigenvalues)\n",
        "print(\"Eigenvectors:\")\n",
        "print(eigenvectors)\n",
        "\n",
        "ev = eigenvectors[:, np.argsort(eigenvalues)[:2]]\n",
        "P = A.dot(ev)\n",
        "print(ev)\n",
        "\n",
        "plt.plot(eigenvalues, 'b*')\n",
        "plt.title('Eigenvalues', fontsize=20)\n",
        "plt.xlabel('Index')\n",
        "plt.ylabel('Eigenvalue')\n",
        "_ = plt.show()"
      ],
      "execution_count": 0,
      "outputs": [
        {
          "output_type": "stream",
          "text": [
            "Eigenvalues:\n",
            "[1.38777878e-16 1.88184190e-01 2.08400608e+00 2.28529798e+00\n",
            " 2.46902494e+00 2.57348681e+00]\n",
            "Eigenvectors:\n",
            "[[-0.40824829 -0.40840058  0.6469088   0.30546656 -0.37882457 -0.10598786]\n",
            " [-0.40824829 -0.44182489 -0.01441501 -0.30450981  0.70632065 -0.21517718]\n",
            " [-0.40824829 -0.37131863 -0.63818761 -0.04461661 -0.38843825  0.36782805]\n",
            " [-0.40824829  0.37133377 -0.33863293  0.45451793 -0.00099624 -0.61170644]\n",
            " [-0.40824829  0.40504751  0.16645901  0.30495543  0.35096892  0.65221488]\n",
            " [-0.40824829  0.44516283  0.17786774 -0.71581349 -0.28903051 -0.08717145]]\n",
            "[[-0.40824829 -0.40840058]\n",
            " [-0.40824829 -0.44182489]\n",
            " [-0.40824829 -0.37131863]\n",
            " [-0.40824829  0.37133377]\n",
            " [-0.40824829  0.40504751]\n",
            " [-0.40824829  0.44516283]]\n"
          ],
          "name": "stdout"
        },
        {
          "output_type": "display_data",
          "data": {
            "image/png": "[encoded data removed]",
            "text/plain": [
              "<Figure size 576x396 with 1 Axes>"
            ]
          },
          "metadata": {
            "tags": []
          }
        }
      ]
    },
    {
      "metadata": {
        "id": "nk8MC9_I20CQ",
        "colab_type": "text"
      },
      "cell_type": "markdown",
      "source": [
        "### 5. Apply k-mean (with k=2) algorithm to given dataset"
      ]
    },
    {
      "metadata": {
        "id": "p3QboOc820CR",
        "colab_type": "code",
        "outputId": "989f9236-099d-42c9-9622-49f1351a5c23",
        "colab": {
          "base_uri": "https://localhost:8080/",
          "height": 53
        }
      },
      "cell_type": "code",
      "source": [
        "from sklearn.cluster import KMeans\n",
        "\n",
        "clusters = KMeans(n_clusters=2, random_state=42).fit(P)\n",
        "clusters_ei = KMeans(n_clusters=2, random_state=42).fit(ev)\n",
        "\n",
        "print(f\"Resulting labels: {list(clusters.labels_)}\")\n",
        "print(f\"Resulting labels: {list(clusters_ei.labels_)}\")\n"
      ],
      "execution_count": 0,
      "outputs": [
        {
          "output_type": "stream",
          "text": [
            "Resulting labels: [1, 1, 1, 0, 0, 0]\n",
            "Resulting labels: [1, 1, 1, 0, 0, 0]\n"
          ],
          "name": "stdout"
        }
      ]
    },
    {
      "metadata": {
        "id": "55hfNJgE20CU",
        "colab_type": "text"
      },
      "cell_type": "markdown",
      "source": [
        "### 6. Show all the steps and the resulting clusters (as it was manual)"
      ]
    },
    {
      "metadata": {
        "id": "aJARwRyp20CV",
        "colab_type": "text"
      },
      "cell_type": "markdown",
      "source": [
        "Answer: \n",
        "\n",
        "Solve eigenvalue problem $L v=\\lambda v$,  we get eigenvalues:\n",
        "\n",
        "$[1.38777878*10^{-16}, 1.88184190*10^{-1}, 2.08400608, 2.28529798,\n",
        " 2.46902494, 2.57348681]$\n",
        "\n",
        "Take 2 lowest of them:\n",
        "\n",
        "$[1.38777878*10^{-16}, 1.88184190*10^{-1}]$\n",
        "\n",
        "and corresponding eigenvectors:\n",
        "\n",
        "$v_1$ = $[-0.40824829,  -0.40824829, -0.40824829, -0.40824829, -0.40824829, -0.40824829]$\n",
        "\n",
        "$v_2$ = $[-0.40840058, -0.44182489, -0.37131863, 0.37133377, 0.40504751, 0.44516283]$\n",
        "    \n",
        "Project Affinity matrix on this 2 vectors:\n",
        "\n",
        "$A*[v_1, v_2] = P$ \n",
        "\n",
        "$P$ = $[[-0.61237244, -0.53574634],\\\\\n",
        " [-0.65319726, -0.62377537],\\\\\n",
        " [-0.65319726, -0.52423351],\\\\\n",
        " [-0.69402209,  0.56138826],\\\\\n",
        " [-0.69402209,  0.61235722],\\\\\n",
        " [-0.61237244,  0.58397164]]$\n",
        "\n",
        "Run $Kmeans$ on $P$\n",
        "\n",
        "Get resulting labels from $Kmeans$ $[1, 1, 1, 0, 0, 0]$ \n",
        "\n",
        "\n"
      ]
    }
  ]
}