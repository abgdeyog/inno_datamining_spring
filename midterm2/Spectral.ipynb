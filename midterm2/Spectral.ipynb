{
 "cells": [
  {
   "cell_type": "markdown",
   "metadata": {},
   "source": [
    "# Spectral (30 - 60 pts)"
   ]
  },
  {
   "cell_type": "markdown",
   "metadata": {},
   "source": [
    "### 1. Explain Spectral clustering and different types of Laplassians"
   ]
  },
  {
   "cell_type": "markdown",
   "metadata": {},
   "source": [
    "- Provide formulas via tex code\n",
    "- Provide your text explanation\n",
    "- Provide your plot demonstration"
   ]
  },
  {
   "cell_type": "markdown",
   "metadata": {},
   "source": [
    "### 2. Given Data"
   ]
  },
  {
   "cell_type": "code",
   "execution_count": 2,
   "metadata": {},
   "outputs": [],
   "source": [
    "import numpy as np"
   ]
  },
  {
   "cell_type": "markdown",
   "metadata": {},
   "source": [
    "**Affinity matrix**"
   ]
  },
  {
   "cell_type": "code",
   "execution_count": 9,
   "metadata": {},
   "outputs": [],
   "source": [
    "A = np.array(\n",
    "[[0.0, 0.8, 0.6, 0.0, 0.1, 0.0],\n",
    "[0.8, 0.0, 0.8, 0.0, 0.0, 0.0],\n",
    "[0.6, 0.8, 0.0, 0.2, 0.0, 0.0],\n",
    "[0.0, 0.0, 0.2, 0.0, 0.8, 0.7],\n",
    "[0.1, 0.0, 0.0, 0.8, 0.0, 0.8],\n",
    "[0.0, 0.0, 0.0, 0.7, 0.8, 0.0]]\n",
    ")"
   ]
  },
  {
   "cell_type": "markdown",
   "metadata": {},
   "source": [
    "**Unnormalized Laplacian matrix**"
   ]
  },
  {
   "cell_type": "code",
   "execution_count": 10,
   "metadata": {},
   "outputs": [],
   "source": [
    "L = np.array(\n",
    "[[1.5, -0.8, -0.6, 0.0, -0.1, 0.0],\n",
    "[-0.8, 1.6, -0.8, 0.0, 0.0, 0.0],\n",
    "[-0.6, -0.8, 1.6, -0.2, 0.0, 0.0],\n",
    "[0.0, 0.0, -0.2, 1.7, -0.8, -0.7],\n",
    "[-0.1, 0.0, 0.0, -0.8, 1.7, -0.8],\n",
    "[0.0, 0.0, 0.0, -0.7, -0.8, 1.5]]\n",
    ")"
   ]
  },
  {
   "cell_type": "markdown",
   "metadata": {},
   "source": [
    "### 3. Perform the rest of steps for spectral clustering"
   ]
  },
  {
   "cell_type": "code",
   "execution_count": 2,
   "metadata": {},
   "outputs": [],
   "source": [
    "#### YOUR CODE HERE\n",
    "\n",
    "\n",
    "\n",
    "\n",
    "\n"
   ]
  },
  {
   "cell_type": "markdown",
   "metadata": {},
   "source": [
    "### 5. Apply k-mean (with k=2) algorithm to given dataset"
   ]
  },
  {
   "cell_type": "code",
   "execution_count": 6,
   "metadata": {},
   "outputs": [],
   "source": [
    "#### YOUR CODE HERE\n",
    "\n",
    "\n",
    "\n",
    "\n",
    "\n"
   ]
  },
  {
   "cell_type": "markdown",
   "metadata": {},
   "source": [
    "### 6. Show all the steps and the resulting clusters (as it was manual)"
   ]
  },
  {
   "cell_type": "markdown",
   "metadata": {},
   "source": [
    "Answer:\n",
    "    \n",
    "    \n"
   ]
  }
 ],
 "metadata": {
  "kernelspec": {
   "display_name": "Python 3",
   "language": "python",
   "name": "python3"
  },
  "language_info": {
   "codemirror_mode": {
    "name": "ipython",
    "version": 3
   },
   "file_extension": ".py",
   "mimetype": "text/x-python",
   "name": "python",
   "nbconvert_exporter": "python",
   "pygments_lexer": "ipython3",
   "version": "3.6.7"
  }
 },
 "nbformat": 4,
 "nbformat_minor": 2
}
